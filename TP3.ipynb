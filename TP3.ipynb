{
 "cells": [
  {
   "cell_type": "code",
   "execution_count": 171,
   "metadata": {},
   "outputs": [],
   "source": [
    "import numpy as np\n",
    "from matplotlib import pyplot as plt\n",
    "import random as rand\n",
    "import itertools\n",
    "from sklearn import svm"
   ]
  },
  {
   "cell_type": "code",
   "execution_count": 172,
   "metadata": {},
   "outputs": [],
   "source": [
    "class Perceptron:\n",
    "    def __init__(self, input_dimension):\n",
    "        self.input_dimension = input_dimension\n",
    "        self.weights = np.random.random((input_dimension,))\n",
    "        self.bias = np.random.random()\n",
    "        \n",
    "    def predict(self, data):\n",
    "        activation = np.dot(self.weights,data) + self.bias\n",
    "        if activation > 0:\n",
    "            return 1\n",
    "        return -1    \n",
    "    \n",
    "    def get_line(self):\n",
    "        return {'m': -self.weights[0]/self.weights[1], 'b': -self.bias/self.weights[1]}\n",
    "    \n",
    "    def predict_dual(self, inputs):\n",
    "        arg = 0\n",
    "        for i in range(len(self.examples)):\n",
    "            arg += self.counters[i] * self.examples[i][1] * (np.dot(self.examples[i][0],inputs))\n",
    "        if arg > 0:\n",
    "            arg = 1\n",
    "        else:\n",
    "            arg = -1\n",
    "        return arg\n",
    "    \n",
    "    def set_training_set(self, inputs, outputs):\n",
    "        self.examples = list(zip(inputs, outputs))\n",
    "    \n",
    "    def train_incremental(self, learning_rate, iterations):\n",
    "        for i in range(iterations):\n",
    "            input, label = rand.choice(self.examples)\n",
    "            prediction = self.predict(input)\n",
    "            delta = label - prediction\n",
    "            self.weights = self.weights + learning_rate * delta * np.array(input)\n",
    "            self.bias = self.bias + learning_rate * delta\n",
    "    \n",
    "    def train_by_dual(self, iterations = 1):\n",
    "        counters = [0 for i in range(len(self.examples))]\n",
    "        for i in range(iterations):\n",
    "            for j in range(len(self.examples)):\n",
    "                arg = 0\n",
    "                for k in range(len(self.examples)):\n",
    "                    arg += counters[k] * self.examples[k][1] * (np.dot(self.examples[k][0],self.examples[j][0]))\n",
    "                if arg > 0:\n",
    "                    arg = 1\n",
    "                else:\n",
    "                    arg = -1\n",
    "                if arg != self.examples[j][1]:\n",
    "                    counters[j] += 1\n",
    "        self.counters = counters"
   ]
  },
  {
   "cell_type": "code",
   "execution_count": 173,
   "metadata": {},
   "outputs": [
    {
     "data": {
      "text/plain": [
       "array([-1.85698182, -1.21947548])"
      ]
     },
     "execution_count": 173,
     "metadata": {},
     "output_type": "execute_result"
    }
   ],
   "source": [
    "inputs = [np.array([0,0]), np.array([1,1])]\n",
    "outputs = [1, -1]\n",
    "p = Perceptron(2)\n",
    "p.set_training_set(inputs, outputs)\n",
    "p.train_incremental(1, 50)\n",
    "p.weights"
   ]
  },
  {
   "cell_type": "code",
   "execution_count": 174,
   "metadata": {},
   "outputs": [],
   "source": [
    "def f(x):\n",
    "    if 0 <= x < 1:\n",
    "        return x + rand.uniform(x + 1, 5)\n",
    "    if 1 <= x < 4:\n",
    "        return x + rand.choice([-rand.uniform(0, x - 1), rand.uniform(x + 1, 5)])\n",
    "    return x - rand.uniform(0, x - 1)\n",
    "\n",
    "x = np.linspace(0,5,100)\n",
    "y1 = np.array([f(x0) for x0 in x])\n",
    "yb = np.array([1 if y1[i] > x + 1 else -1 for i,x in enumerate(x)])"
   ]
  },
  {
   "cell_type": "code",
   "execution_count": 175,
   "metadata": {},
   "outputs": [],
   "source": [
    "p = Perceptron(2)\n",
    "p.set_training_set(list(zip(x,y1)), yb)\n",
    "p.train_incremental(0.1, 1000)"
   ]
  },
  {
   "cell_type": "code",
   "execution_count": 176,
   "metadata": {},
   "outputs": [
    {
     "data": {
      "text/plain": [
       "[<matplotlib.lines.Line2D at 0x12f29bdc0>]"
      ]
     },
     "execution_count": 176,
     "metadata": {},
     "output_type": "execute_result"
    },
    {
     "data": {
      "image/png": "[encoded data removed]",
      "text/plain": [
       "<Figure size 432x288 with 1 Axes>"
      ]
     },
     "metadata": {
      "needs_background": "light"
     },
     "output_type": "display_data"
    }
   ],
   "source": [
    "plt.scatter(x, y1, c=['red' if y == 1 else 'blue' for y in yb])\n",
    "plt.plot(x, -x * p.weights[0]/p.weights[1] - p.bias/p.weights[1], '--')"
   ]
  },
  {
   "cell_type": "code",
   "execution_count": 177,
   "metadata": {},
   "outputs": [],
   "source": [
    "def line(p1, p2):\n",
    "    m = (p1[1] - p2[1])/(p1[0] - p2[0])\n",
    "    b = p1[1] - p1[0]*m\n",
    "    return {'m': m, 'b': b}\n",
    "\n",
    "def line_from_point(point, m):\n",
    "    return {'m': m, 'b': point[1] - m*point[0]}\n",
    "\n",
    "def perpendicular_line(p, m, b):\n",
    "    m_perpendicular = -1/m\n",
    "    b_perpendicular = p[1] - p[0]*m_perpendicular\n",
    "    return {'m': m_perpendicular, 'b': b_perpendicular}\n",
    "\n",
    "def line_intersection(m1, b1, m2, b2):\n",
    "    if m1 == m2 and b1 != b2:\n",
    "        return None\n",
    "    x = (b1 - b2)/(m2 - m1)\n",
    "    y = m1*x + b1\n",
    "    return np.array((x,y))\n",
    "\n",
    "def point_belongs_to_line(p, m, b):\n",
    "    return p[1] == m*p[0] + b\n",
    "\n",
    "def distance_to_line(p, m, b):\n",
    "    return np.linalg.norm(p - line_intersection(m, b, *perpendicular_line(p, m, b).values()))\n",
    "\n",
    "def distances_to_line(points, m, b):\n",
    "    def distance_to_particular_line(p):\n",
    "        return distance_to_line(p, m, b)\n",
    "    return map(distance_to_particular_line, points)\n",
    "\n",
    "def director(m, b):\n",
    "    point1 = np.array([0,b])\n",
    "    point2 = np.array([1,m+b])\n",
    "    return (point2-point1)/np.linalg.norm(point2-point1)\n",
    "\n",
    "def translate_line(m, b, d):\n",
    "    direction = director(-1/m,b)\n",
    "    return line_from_point(np.array([0,b]) + d*direction, m)\n",
    "\n",
    "point1, point2 = np.array([0,0]), np.array([1,1])"
   ]
  },
  {
   "cell_type": "code",
   "execution_count": 178,
   "metadata": {},
   "outputs": [
    {
     "data": {
      "text/plain": [
       "{'m': 1.0, 'b': 0.0}"
      ]
     },
     "execution_count": 178,
     "metadata": {},
     "output_type": "execute_result"
    }
   ],
   "source": [
    "line(point1, point2)"
   ]
  },
  {
   "cell_type": "code",
   "execution_count": 179,
   "metadata": {},
   "outputs": [
    {
     "data": {
      "text/plain": [
       "{'m': -1.0, 'b': 1.0}"
      ]
     },
     "execution_count": 179,
     "metadata": {},
     "output_type": "execute_result"
    }
   ],
   "source": [
    "point3 = np.array([1,0])\n",
    "perpendicular_line(point3, *line(point1, point2).values())"
   ]
  },
  {
   "cell_type": "code",
   "execution_count": 180,
   "metadata": {},
   "outputs": [
    {
     "data": {
      "text/plain": [
       "array([0.5, 0.5])"
      ]
     },
     "execution_count": 180,
     "metadata": {},
     "output_type": "execute_result"
    }
   ],
   "source": [
    "line_intersection(*line(point1, point2).values(), \n",
    "                  *perpendicular_line(point3, *line(point1, point2).values()).values())"
   ]
  },
  {
   "cell_type": "code",
   "execution_count": 181,
   "metadata": {},
   "outputs": [],
   "source": [
    "point4 = np.array([0,1])\n",
    "assert distance_to_line(point4, 1, 0) == np.power(2, 0.5)/2"
   ]
  },
  {
   "cell_type": "code",
   "execution_count": 182,
   "metadata": {},
   "outputs": [
    {
     "data": {
      "text/plain": [
       "[0.7071067811865476, 0.7071067811865476]"
      ]
     },
     "execution_count": 182,
     "metadata": {},
     "output_type": "execute_result"
    }
   ],
   "source": [
    "points = [np.array([0,1]), np.array([1,0])]\n",
    "list(distances_to_line(points, 1, 0))"
   ]
  },
  {
   "cell_type": "code",
   "execution_count": 183,
   "metadata": {},
   "outputs": [],
   "source": [
    "class1 = np.array(list(filter(lambda data : data[2] == 1, np.column_stack((np.column_stack((x, y1)), yb)))))\n",
    "class2 = np.array(list(filter(lambda data : data[2] == -1, np.column_stack((np.column_stack((x, y1)), yb)))))"
   ]
  },
  {
   "cell_type": "code",
   "execution_count": 184,
   "metadata": {},
   "outputs": [
    {
     "data": {
      "text/plain": [
       "0.3735248478646016"
      ]
     },
     "execution_count": 184,
     "metadata": {},
     "output_type": "execute_result"
    }
   ],
   "source": [
    "min(distances_to_line(class1[:, :2],*p.get_line().values()))"
   ]
  },
  {
   "cell_type": "code",
   "execution_count": 185,
   "metadata": {},
   "outputs": [
    {
     "data": {
      "text/plain": [
       "0.8007198674388215"
      ]
     },
     "execution_count": 185,
     "metadata": {},
     "output_type": "execute_result"
    }
   ],
   "source": [
    "min(distances_to_line(class2[:, :2],*p.get_line().values()))"
   ]
  },
  {
   "cell_type": "code",
   "execution_count": 186,
   "metadata": {},
   "outputs": [],
   "source": [
    "best_line = p.get_line()\n",
    "best_margin = [min(distances_to_line(class1[:, :2],*best_line.values())),\n",
    "               min(distances_to_line(class2[:, :2],*best_line.values()))]\n",
    "\n",
    "closest_1 = list(zip(class1[:,:2],distances_to_line(class1[:, :2], *best_line.values())))\n",
    "closest_1.sort(key=lambda p : p[1])\n",
    "closest_1 = np.array([p[0] for p in closest_1[:4]])\n",
    "closest_2 = list(zip(class2[:,:2],distances_to_line(class2[:, :2], *best_line.values())))\n",
    "closest_2.sort(key=lambda p : p[1])\n",
    "closest_2 = np.array([p[0] for p in closest_2[:4]])\n",
    "\n",
    "set_1 = closest_1\n",
    "set_2 = closest_2\n",
    "\n",
    "for _ in range(2):\n",
    "    for points_1 in itertools.combinations(set_1, 2):\n",
    "        for point_2 in set_2:\n",
    "            line1 = line(points_1[0], points_1[1])\n",
    "            line2 = perpendicular_line(point_2, *line1.values())\n",
    "            point_intersection = line_intersection(*line1.values(), *line2.values())\n",
    "            candidate_line = line_from_point(0.5*(point_intersection + point_2), line1['m'])\n",
    "            candidate_margin = [min(distances_to_line(class1[:, :2],*candidate_line.values())),\n",
    "                    min(distances_to_line(class2[:, :2],*candidate_line.values()))]\n",
    "            candidate_line = translate_line(*candidate_line.values(),\n",
    "                                           0.5*(candidate_margin[1] - candidate_margin[0]))\n",
    "            candidate_margin = [min(distances_to_line(class1[:, :2],*candidate_line.values())),\n",
    "                    min(distances_to_line(class2[:, :2],*candidate_line.values()))]\n",
    "            if min(candidate_margin) > min(best_margin):\n",
    "                best_line = candidate_line\n",
    "                best_margin = candidate_margin\n",
    "                best_points1 = points_1\n",
    "                best_point2 = point2\n",
    "    set_2 = closest_1\n",
    "    set_1 = closest_2"
   ]
  },
  {
   "cell_type": "code",
   "execution_count": 187,
   "metadata": {},
   "outputs": [
    {
     "data": {
      "text/plain": [
       "{'m': 2.0328450240582665, 'b': -0.45477077922711784}"
      ]
     },
     "execution_count": 187,
     "metadata": {},
     "output_type": "execute_result"
    }
   ],
   "source": [
    "best_line"
   ]
  },
  {
   "cell_type": "code",
   "execution_count": 188,
   "metadata": {},
   "outputs": [
    {
     "data": {
      "text/plain": [
       "[0.61158030413163, 0.6115803041316297]"
      ]
     },
     "execution_count": 188,
     "metadata": {},
     "output_type": "execute_result"
    }
   ],
   "source": [
    "best_margin"
   ]
  },
  {
   "cell_type": "code",
   "execution_count": 189,
   "metadata": {},
   "outputs": [
    {
     "data": {
      "text/plain": [
       "array([[0.15151515, 1.31360323],\n",
       "       [0.2020202 , 1.41627217]])"
      ]
     },
     "execution_count": 189,
     "metadata": {},
     "output_type": "execute_result"
    }
   ],
   "source": [
    "np.array(best_points1)[:, :]"
   ]
  },
  {
   "cell_type": "code",
   "execution_count": 190,
   "metadata": {},
   "outputs": [
    {
     "data": {
      "text/plain": [
       "array([1, 1])"
      ]
     },
     "execution_count": 190,
     "metadata": {},
     "output_type": "execute_result"
    }
   ],
   "source": [
    "best_point2"
   ]
  },
  {
   "cell_type": "code",
   "execution_count": 191,
   "metadata": {},
   "outputs": [
    {
     "data": {
      "text/plain": [
       "[0.61158030413163, 0.6115803041316297]"
      ]
     },
     "execution_count": 191,
     "metadata": {},
     "output_type": "execute_result"
    }
   ],
   "source": [
    "best_margin"
   ]
  },
  {
   "cell_type": "code",
   "execution_count": 192,
   "metadata": {},
   "outputs": [
    {
     "data": {
      "text/plain": [
       "<matplotlib.legend.Legend at 0x12f2eb4f0>"
      ]
     },
     "execution_count": 192,
     "metadata": {},
     "output_type": "execute_result"
    },
    {
     "data": {
      "image/png": "[encoded data removed]",
      "text/plain": [
       "<Figure size 432x288 with 1 Axes>"
      ]
     },
     "metadata": {
      "needs_background": "light"
     },
     "output_type": "display_data"
    }
   ],
   "source": [
    "plt.scatter(x, y1, c=['red' if y == 1 else 'blue' for y in yb])\n",
    "plt.scatter(best_point2[0], best_point2[1], color='green')\n",
    "plt.scatter(np.array(best_points1)[:,0], np.array(best_points1)[:,1], color='green')\n",
    "plt.plot(x, x*best_line['m'] + best_line['b'])\n",
    "plt.plot(x, -x * p.weights[0]/p.weights[1] - p.bias/p.weights[1], '--')\n",
    "plt.legend(['(mas) optima', 'Perceptron'] )"
   ]
  },
  {
   "cell_type": "code",
   "execution_count": 193,
   "metadata": {},
   "outputs": [
    {
     "name": "stdout",
     "output_type": "stream",
     "text": [
      "[0.6469348141397223, 0.6044038246532667]\n"
     ]
    },
    {
     "data": {
      "image/png": "[encoded data removed]",
      "text/plain": [
       "<Figure size 432x288 with 1 Axes>"
      ]
     },
     "metadata": {
      "needs_background": "light"
     },
     "output_type": "display_data"
    }
   ],
   "source": [
    "svc = svm.SVC(kernel='linear')\n",
    "ins = np.row_stack((class1[:, :2], class2[:, :2]))\n",
    "outs = np.append(class1[:,2], class2[:, 2])\n",
    "svc.fit(ins, outs)\n",
    "w = svc.coef_[0]\n",
    "y_svm = x * (-w[0]/w[1]) - (svc.intercept_[0]/w[1])\n",
    "plt.scatter(class1[:,0],class1[:,1], color='red')\n",
    "plt.scatter(class2[:,0],class2[:,1], color='blue')\n",
    "plt.plot(x, y_svm)\n",
    "plt.plot(x, x*best_line['m'] + best_line['b'], '--', color='orange')\n",
    "plt.plot(x, -x * p.weights[0]/p.weights[1] - p.bias/p.weights[1], '--', color='green')\n",
    "plt.legend(['SVM'])\n",
    "\n",
    "best_margin = [min(distances_to_line(class1[:, :2],-w[0]/w[1], -svc.intercept_[0]/w[1])),\n",
    "              min(distances_to_line(class2[:, :2],-w[0]/w[1], -svc.intercept_[0]/w[1]))]\n",
    "print(best_margin)"
   ]
  },
  {
   "cell_type": "code",
   "execution_count": 194,
   "metadata": {},
   "outputs": [
    {
     "name": "stdout",
     "output_type": "stream",
     "text": [
      "[[2.5        6.08274625]\n",
      " [3.         7.08804806]]\n"
     ]
    }
   ],
   "source": [
    "contaminated_points = np.column_stack(([2.5, 3.], [x * (-w[0]/w[1]) - (svc.intercept_[0]/w[1]) + 1.5 for x in [2.5, 3.]]))\n",
    "print(contaminated_points)"
   ]
  },
  {
   "cell_type": "code",
   "execution_count": 195,
   "metadata": {},
   "outputs": [],
   "source": [
    "class2 = np.row_stack((class2, np.column_stack((contaminated_points, [-1, -1]))))"
   ]
  },
  {
   "cell_type": "code",
   "execution_count": 196,
   "metadata": {},
   "outputs": [
    {
     "data": {
      "text/plain": [
       "array([[ 4.8989899 ,  2.92677793, -1.        ],\n",
       "       [ 4.94949495,  1.5367581 , -1.        ],\n",
       "       [ 5.        ,  2.96653317, -1.        ],\n",
       "       [ 2.5       ,  6.08274625, -1.        ],\n",
       "       [ 3.        ,  7.08804806, -1.        ]])"
      ]
     },
     "execution_count": 196,
     "metadata": {},
     "output_type": "execute_result"
    }
   ],
   "source": [
    "class2[-5:]"
   ]
  },
  {
   "cell_type": "code",
   "execution_count": 197,
   "metadata": {},
   "outputs": [
    {
     "data": {
      "text/plain": [
       "<matplotlib.legend.Legend at 0x12f38ee50>"
      ]
     },
     "execution_count": 197,
     "metadata": {},
     "output_type": "execute_result"
    },
    {
     "data": {
      "image/png": "[encoded data removed]",
      "text/plain": [
       "<Figure size 432x288 with 1 Axes>"
      ]
     },
     "metadata": {
      "needs_background": "light"
     },
     "output_type": "display_data"
    }
   ],
   "source": [
    "plt.scatter(class1[:,0],class1[:,1], color='red')\n",
    "plt.scatter(class2[:,0],class2[:,1], color='blue')\n",
    "plt.plot(x, y_svm)\n",
    "plt.legend(['SVM (prev)'])"
   ]
  },
  {
   "cell_type": "code",
   "execution_count": 208,
   "metadata": {},
   "outputs": [
    {
     "data": {
      "text/plain": [
       "[0.35817320654593865, 0.6255742204775889]"
      ]
     },
     "execution_count": 208,
     "metadata": {},
     "output_type": "execute_result"
    },
    {
     "data": {
      "image/png": "[encoded data removed]",
      "text/plain": [
       "<Figure size 432x288 with 1 Axes>"
      ]
     },
     "metadata": {
      "needs_background": "light"
     },
     "output_type": "display_data"
    }
   ],
   "source": [
    "svc = svm.SVC(kernel='linear', C=1000000)\n",
    "ins = np.row_stack((class1[:, :2], class2[:, :2]))\n",
    "outs = np.append(class1[:,2], class2[:, 2])\n",
    "svc.fit(ins, outs)\n",
    "w = svc.coef_[0]\n",
    "y_svm = x * (-w[0]/w[1]) - (svc.intercept_[0]/w[1])\n",
    "plt.scatter(class1[:,0],class1[:,1], color='red')\n",
    "plt.scatter(class2[:,0],class2[:,1], color='blue')\n",
    "plt.plot(x, y_svm)\n",
    "plt.legend(['SVM'])\n",
    "best_margin = [min(distances_to_line(class1[:, :2],-w[0]/w[1], -svc.intercept_[0]/w[1])),\n",
    "              min(distances_to_line(class2[:, :2],-w[0]/w[1], -svc.intercept_[0]/w[1]))]\n",
    "best_margin"
   ]
  },
  {
   "cell_type": "code",
   "execution_count": 205,
   "metadata": {},
   "outputs": [],
   "source": [
    "p = Perceptron(2)\n",
    "p.set_training_set(np.row_stack((class1[:,:2], class2[:,:2])), np.append(class1[:,2], class2[:,2]))\n",
    "p.train_incremental(0.1, 1000)"
   ]
  },
  {
   "cell_type": "code",
   "execution_count": 206,
   "metadata": {},
   "outputs": [
    {
     "data": {
      "text/plain": [
       "<matplotlib.legend.Legend at 0x12ef279a0>"
      ]
     },
     "execution_count": 206,
     "metadata": {},
     "output_type": "execute_result"
    },
    {
     "data": {
      "image/png": "[encoded data removed]",
      "text/plain": [
       "<Figure size 432x288 with 1 Axes>"
      ]
     },
     "metadata": {
      "needs_background": "light"
     },
     "output_type": "display_data"
    }
   ],
   "source": [
    "plt.scatter(class1[:,0],class1[:,1], color='red')\n",
    "plt.scatter(class2[:,0],class2[:,1], color='blue')\n",
    "plt.plot(x, x*p.get_line()['m'] + p.get_line()['b'])\n",
    "plt.legend(['Perceptron'])"
   ]
  }
 ],
 "metadata": {
  "kernelspec": {
   "display_name": "Python 3",
   "language": "python",
   "name": "python3"
  },
  "language_info": {
   "codemirror_mode": {
    "name": "ipython",
    "version": 3
   },
   "file_extension": ".py",
   "mimetype": "text/x-python",
   "name": "python",
   "nbconvert_exporter": "python",
   "pygments_lexer": "ipython3",
   "version": "3.8.5"
  }
 },
 "nbformat": 4,
 "nbformat_minor": 4
}
